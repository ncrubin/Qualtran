{
 "cells": [
  {
   "cell_type": "markdown",
   "id": "9ef6f5a6-0127-40e0-9d2a-fd08ce598563",
   "metadata": {},
   "source": [
    "# Hamming weight phasing using addition circuits\n",
    "\n",
    "In this notebook we describe how to use the Adder primitive to compute the Hamming weight of a bitstring into a register. To understand how this works we first describe the adder primitive MAJ and UMA followed by how to use the adder primitives to compute Hamming weight. \n",
    "\n",
    "## Reversible adders, MAJ, and UMA\n",
    "\n",
    "A full adder takes two input bits ($a$ and $b$) and an input carry bit ($c$) and outputs the sum of ($a$ + $b$ + $c$) as a sum bit $s$ and a carry bit $c_{+1}$.  This is the same type of addition that happens in base 10 but instead of carrying on 10 we carry on 2. In a reversible setting we use the input carry bit to store $c \\oplus a$, the $b$ bit stores $a \\oplus b$, and the $a$ bit stores the ouput carry bit $c_{+1}$. This is the ordering used in [A new quantum ripple-carry addition circuit](https://arxiv.org/abs/quant-ph/0410184) in the definition of the $\\mathrm{MAJ}(a, b, c)$ gate.  The $\\mathrm{UMA}$ gate uncomputes the XOR operations and writes the $a$ bit back to the $a$ register, overwrites the $b$ register with the sum of $a \\oplus b \\oplus c$, and restores the original carry bit $c$.  Using these two primitives one can construct the full ripple carry adder for two $n$-bit numbers by $n$ calls to $\\mathrm{MAJ}$ and $n$ calls to $\\mathrm{UMA}$. One also uses an additional ancilla bit to store the final carry bit (copied via a CNOT) before uncomputing with $n$ $\\mathrm{UMA}$. Here are links to the [$\\mathrm{MAJ}$](https://algassert.com/quirk#circuit={%22cols%22:[[1,%22X%22,%22%E2%80%A2%22],[%22X%22,1,%22%E2%80%A2%22],[%22%E2%80%A2%22,%22%E2%80%A2%22,%22X%22]],%22init%22:[0,0]}) and [$\\mathrm{UMA}$](https://algassert.com/quirk#circuit={%22cols%22:[[1,%22X%22],[%22%E2%80%A2%22,%22X%22],[%22%E2%80%A2%22,%22%E2%80%A2%22,%22X%22],[1,%22X%22],[%22X%22,1,%22%E2%80%A2%22],[1,%22X%22,%22%E2%80%A2%22]]}) circuit as a quirk circuit. Using a logical-AND along with an additional ancilla Craig reduced the Toffoli gate count by 1 for an equivalent $\\mathrm{MAJ}$ and $\\mathrm{UMA}$ [(quirk circuit)](https://algassert.com/quirk#circuit={%22cols%22:[[%22%E2%80%A2%22,%22X%22,%22X%22],[1,%22%E2%80%A2%22,%22%E2%80%A2%22,%22X%22],[%22%E2%80%A2%22,1,1,%22X%22],[%22%E2%80%A2%22,1,1,%22X%22],[1,%22%E2%80%A2%22,%22%E2%80%A2%22,%22X%22],[%22%E2%80%A2%22,1,%22X%22],[1,%22X%22,%22%E2%80%A2%22]]}) and the T-gates by half using the fact that the when a pair of Toffoli are used to compute and uncompute a state one can reduce the number of T gates.\n",
    "\n",
    "Craig's adder circuit operates slightly differently to the $\\mathrm{MAJ}$ and $\\mathrm{UMA}$ primtives. The first part of the circuit primtive takes as input $a,b,c$ as before and computes the carry bit into the ancilla of the logical-AND. The input bits $a$ and $b$ now store their respective $a \\oplus c$ and $b \\oplus c$. The input carry bit does not change. You can confirm the ouput using [this](https://algassert.com/quirk#circuit={%22cols%22:[[%22%E2%80%A2%22,%22X%22,%22X%22],[1,%22%E2%80%A2%22,%22%E2%80%A2%22,%22X%22],[%22%E2%80%A2%22,1,1,%22X%22]],%22init%22:[0]}) quirk circuit.  The second half of the circuit uncomputes the carry bit and computes the sum and uncomputes the $a \\oplus c$ and $b \\oplus c$. The $b$ register is overwritten with the sum.\n",
    "\n",
    "For our Hamming weight circuit we will need a slight modification to the adder where using four bits we compute the sum and carry of $a + b + c$.  This circuit requires a single Toffoli from the logical-AND and zero Toffoli to uncompute. The circuit for the out-of-place adder can be found [here](https://algassert.com/quirk#circuit={%22cols%22:[[%22%E2%80%A2%22,%22X%22,%22X%22],[1,%22%E2%80%A2%22,%22%E2%80%A2%22,%22X%22],[%22%E2%80%A2%22,%22X%22,1,%22X%22],[1,%22%E2%80%A2%22,%22X%22]]}) which corresponds to figure 4b of [Halving the cost of quantum addition](https://quantum-journal.org/papers/q-2018-06-18-74/).  Reading this circuit from top to bottom has inputs $a,b,c,0$ and ouputs $a,b,(a+b+c),(a+b+c)_{1}$ where the $1$ subscript on the last qubit denotes it is the carry bit from the sum.\n",
    "\n",
    "## Computing Hamming weight by out-of-place adders\n",
    "\n",
    "Our goal is to compute the Hamming weight into a register and use the binary-to-unary representation of integers to reduce the number of rotations needed to apply $R_{z}(\\theta)$ to $n$ qubits.  As is stated in [Improved Fault-Tolerant Quantum Simulation of Condensed-Phase Correlated Electrons via Trotterization](https://quantum-journal.org/papers/q-2020-07-16-296/) page 18, ``We begin with $n$ qubits to which a rotation Rz(θ) must be applied. We call these initial qubits 'weight-1' qubits: our goal is to combine them such that we are left with one qubit which captures each digit of the Hamming weight, i.e., one qubit each of weight $1, 2, 4, 8, . . ., 2^{\\lfloor \\log2(n) \\rfloor}$''--or in other words, $|k\\rangle \\rightarrow |w(k)\\rangle$ where $w(k)$ is the binary representation of the Hamming weight of $k$.\n",
    "\n",
    "In order to understand how this circuit works we first point out that the out-of-place adder by Gidney converts three bits into a binary representation of the sum of those three bits. Recall the adder works by converting $a,b,c,0$ and ouputs $a,b,(a+b+c),(a+b+c)_{1}$. The last two bits $(a+b+c), (a+b+c)_{1}$ are the binary representation of the Hamming weight for the input of the three bits $w(|a,b,c\\rangle) = 2^{0}(a+b+c)_{0} + 2^{1}(a+b+c)_{1}$.  The next point to understand is that in this construction for computing the Hamming weight we view each digit (qubit) as binary $2^{0}b_{i}$. Thus $|k\\rangle$ can be thought of as $2^{0}k_{0} + 2^{0}k_{1} + ... + 2^{0}k_{n-1}$. Let's consider a concrete 7-bit state $2^{0}b_{0} +  2^{0}b_{1} + 2^{0}b_{2} + 2^{0}b_{3} + 2^{0}b_{4} + 2^{0}b_{5} + 2^{0}b_{6}$. We now can apply the adder to the first three bits producing a binary representation\n",
    "\n",
    "$$\n",
    "2^{1}(b_{0}+b_{1} + b_{2})_{1} + 2^{0}(b_{0}+b_{1} + b_{2})_{0} + 2^{0}b_{3} + 2^{0}b_{4} + 2^{0}b_{5} + 2^{0}b_{6}\n",
    "$$\n",
    "we then sum the next three bits corresponding to $2^{0}$ and sum those\n",
    "$$\n",
    "2^{1}(b_{0}+b_{1} + b_{2})_{1} + 2^{1}((b_{0}+b_{1} + b_{2})_{0} + b_{3} + b_{4})_{1} + 2^{0}((b_{0}+b_{1} + b_{2})_{0} + b_{3} + b_{4})_{0} + 2^{0}b_{5} + 2^{0}b_{6}\n",
    "$$\n",
    "we then sum the final three bits corresponding to $2^{0}$\n",
    "$$\n",
    "2^{1}(b_{0}+b_{1} + b_{2})_{1} + 2^{1}((b_{0}+b_{1} + b_{2})_{0} + b_{3} + b_{4})_{1} + 2^{1}(((b_{0}+b_{1} + b_{2})_{0} + b_{3} + b_{4})_{0} + b_{5} + b_{6})_{1} + 2^{0}(((b_{0}+b_{1} + b_{2})_{0} + b_{3} + b_{4})_{0} + b_{5} + b_{6})_{0}\n",
    "$$\n",
    "the final expression on the right is the $2^{0}$ binary component of the Hamming weight.  This worked because all the other qubits are storing the carry bits which would correspond to $2^{1}$ binary components.  We now need to add these together. For ease of notation we assign $t_{1} = (b_{0}+b_{1} + b_{2})_{1}$, $t_{2} = ((b_{0}+b_{1} + b_{2})_{0} + b_{3} + b_{4})_{1}$, and $t_{3} = (((b_{0}+b_{1} + b_{2})_{0} + b_{3} + b_{4})_{0} + b_{5} + b_{6})_{1}$. We now have\n",
    "$$\n",
    "2^{1}t_{1} + 2^{1}t_{2} + 2^{1}t_{3} + 2^{0}(((b_{0}+b_{1} + b_{2})_{0} + b_{3} + b_{4})_{0} + b_{5} + b_{6})_{0}\n",
    "$$\n",
    "which we add together to produce\n",
    "$$\n",
    "2^{2}(t_{1} + t_{2} + t_{3})_{1} + 2^{1}(t_{1} + t_{2} + t_{3})_{0} + 2^{0}(((b_{0}+b_{1} + b_{2})_{0} + b_{3} + b_{4})_{0} + b_{5} + b_{6})_{0}\n",
    "$$\n",
    "which is the Hamming weight of our 7-bit string.  "
   ]
  },
  {
   "cell_type": "code",
   "execution_count": 1,
   "id": "642a1ea5-d237-4ee6-999f-0a929ebf6782",
   "metadata": {},
   "outputs": [],
   "source": [
    "from qualtran.bloqs.arithmetic import OutOfPlaceAdderBuildingBlock\n",
    "from qualtran.drawing import show_bloq\n",
    "from qualtran.drawing import get_musical_score_data, draw_musical_score"
   ]
  },
  {
   "cell_type": "code",
   "execution_count": 2,
   "id": "33f7459c-57bb-4731-9a99-e15754bae7ea",
   "metadata": {},
   "outputs": [
    {
     "data": {
      "image/svg+xml": [
       "<svg xmlns=\"http://www.w3.org/2000/svg\" xmlns:xlink=\"http://www.w3.org/1999/xlink\" width=\"238pt\" height=\"206pt\" viewBox=\"0.00 0.00 238.00 206.00\">\n",
       "<g id=\"graph0\" class=\"graph\" transform=\"scale(1 1) rotate(0) translate(4 202)\">\n",
       "<title>my_graph</title>\n",
       "<polygon fill=\"white\" stroke=\"transparent\" points=\"-4,4 -4,-202 234,-202 234,4 -4,4\"/>\n",
       "<!-- a_G10 -->\n",
       "<g id=\"node1\" class=\"node\">\n",
       "<title>a_G10</title>\n",
       "<text text-anchor=\"middle\" x=\"27\" y=\"-160.3\" font-family=\"Times,serif\" font-size=\"14.00\">a</text>\n",
       "</g>\n",
       "<!-- OutOfPlaceAdderBuildingBlock -->\n",
       "<g id=\"node4\" class=\"node\">\n",
       "<title>OutOfPlaceAdderBuildingBlock</title>\n",
       "<polygon fill=\"none\" stroke=\"black\" points=\"91,-141 91,-158 139,-158 139,-141 91,-141\"/>\n",
       "<text text-anchor=\"start\" x=\"94\" y=\"-147\" font-family=\"Times,serif\" font-size=\"10.00\">(a + b + c)</text>\n",
       "<polygon fill=\"none\" stroke=\"black\" points=\"91,-120 91,-141 139,-141 139,-120 91,-120\"/>\n",
       "<text text-anchor=\"start\" x=\"111.5\" y=\"-126.8\" font-family=\"Times,serif\" font-size=\"14.00\">a</text>\n",
       "<polygon fill=\"none\" stroke=\"black\" points=\"91,-99 91,-120 139,-120 139,-99 91,-99\"/>\n",
       "<text text-anchor=\"start\" x=\"111.5\" y=\"-105.8\" font-family=\"Times,serif\" font-size=\"14.00\">b</text>\n",
       "<polygon fill=\"none\" stroke=\"black\" points=\"91,-78 91,-99 139,-99 139,-78 91,-78\"/>\n",
       "<text text-anchor=\"start\" x=\"111.5\" y=\"-84.8\" font-family=\"Times,serif\" font-size=\"14.00\">c</text>\n",
       "<polygon fill=\"none\" stroke=\"black\" points=\"91,-57 91,-78 108,-78 108,-57 91,-57\"/>\n",
       "<polygon fill=\"none\" stroke=\"black\" points=\"108,-57 108,-78 139,-78 139,-57 108,-57\"/>\n",
       "<text text-anchor=\"start\" x=\"117\" y=\"-63.8\" font-family=\"Times,serif\" font-size=\"14.00\">co</text>\n",
       "</g>\n",
       "<!-- a_G10&#45;&gt;OutOfPlaceAdderBuildingBlock -->\n",
       "<g id=\"edge1\" class=\"edge\">\n",
       "<title>a_G10:e-&gt;OutOfPlaceAdderBuildingBlock:w</title>\n",
       "<path fill=\"none\" stroke=\"black\" d=\"M54,-164C75.17,-164 69.47,-133.53 88.55,-131.15\"/>\n",
       "<ellipse fill=\"black\" stroke=\"black\" cx=\"90\" cy=\"-131.06\" rx=\"1\" ry=\"1\"/>\n",
       "<text text-anchor=\"middle\" x=\"72.5\" y=\"-151\" font-family=\"Times,serif\" font-size=\"10.00\">1</text>\n",
       "</g>\n",
       "<!-- b_G6 -->\n",
       "<g id=\"node2\" class=\"node\">\n",
       "<title>b_G6</title>\n",
       "<text text-anchor=\"middle\" x=\"27\" y=\"-106.3\" font-family=\"Times,serif\" font-size=\"14.00\">b</text>\n",
       "</g>\n",
       "<!-- b_G6&#45;&gt;OutOfPlaceAdderBuildingBlock -->\n",
       "<g id=\"edge2\" class=\"edge\">\n",
       "<title>b_G6:e-&gt;OutOfPlaceAdderBuildingBlock:w</title>\n",
       "<path fill=\"none\" stroke=\"black\" d=\"M54,-110C69.67,-110 74.14,-110 88.77,-110\"/>\n",
       "<ellipse fill=\"black\" stroke=\"black\" cx=\"90\" cy=\"-110\" rx=\"1\" ry=\"1\"/>\n",
       "<text text-anchor=\"middle\" x=\"72.5\" y=\"-113\" font-family=\"Times,serif\" font-size=\"10.00\">1</text>\n",
       "</g>\n",
       "<!-- c_G0 -->\n",
       "<g id=\"node3\" class=\"node\">\n",
       "<title>c_G0</title>\n",
       "<text text-anchor=\"middle\" x=\"27\" y=\"-52.3\" font-family=\"Times,serif\" font-size=\"14.00\">c</text>\n",
       "</g>\n",
       "<!-- c_G0&#45;&gt;OutOfPlaceAdderBuildingBlock -->\n",
       "<g id=\"edge3\" class=\"edge\">\n",
       "<title>c_G0:e-&gt;OutOfPlaceAdderBuildingBlock:w</title>\n",
       "<path fill=\"none\" stroke=\"black\" d=\"M54,-56C74.89,-56 69.72,-85.55 88.58,-87.86\"/>\n",
       "<ellipse fill=\"black\" stroke=\"black\" cx=\"90\" cy=\"-87.94\" rx=\"1\" ry=\"1\"/>\n",
       "<text text-anchor=\"middle\" x=\"72.5\" y=\"-76\" font-family=\"Times,serif\" font-size=\"10.00\">1</text>\n",
       "</g>\n",
       "<!-- a_G1 -->\n",
       "<g id=\"node5\" class=\"node\">\n",
       "<title>a_G1</title>\n",
       "<text text-anchor=\"middle\" x=\"203\" y=\"-176.3\" font-family=\"Times,serif\" font-size=\"14.00\">a</text>\n",
       "</g>\n",
       "<!-- OutOfPlaceAdderBuildingBlock&#45;&gt;a_G1 -->\n",
       "<g id=\"edge4\" class=\"edge\">\n",
       "<title>OutOfPlaceAdderBuildingBlock:e-&gt;a_G1:w</title>\n",
       "<path fill=\"none\" stroke=\"black\" d=\"M139,-131C165.54,-131 149.64,-177.36 173.86,-179.89\"/>\n",
       "<ellipse fill=\"black\" stroke=\"black\" cx=\"175\" cy=\"-179.95\" rx=\"1\" ry=\"1\"/>\n",
       "<text text-anchor=\"middle\" x=\"157.5\" y=\"-159\" font-family=\"Times,serif\" font-size=\"10.00\">1</text>\n",
       "</g>\n",
       "<!-- b_G5 -->\n",
       "<g id=\"node6\" class=\"node\">\n",
       "<title>b_G5</title>\n",
       "<text text-anchor=\"middle\" x=\"203\" y=\"-122.3\" font-family=\"Times,serif\" font-size=\"14.00\">b</text>\n",
       "</g>\n",
       "<!-- OutOfPlaceAdderBuildingBlock&#45;&gt;b_G5 -->\n",
       "<g id=\"edge5\" class=\"edge\">\n",
       "<title>OutOfPlaceAdderBuildingBlock:e-&gt;b_G5:w</title>\n",
       "<path fill=\"none\" stroke=\"black\" d=\"M139,-110C156.22,-110 157.97,-124.77 173.98,-125.93\"/>\n",
       "<ellipse fill=\"black\" stroke=\"black\" cx=\"175\" cy=\"-125.96\" rx=\"1\" ry=\"1\"/>\n",
       "<text text-anchor=\"middle\" x=\"157.5\" y=\"-121\" font-family=\"Times,serif\" font-size=\"10.00\">1</text>\n",
       "</g>\n",
       "<!-- c_G2 -->\n",
       "<g id=\"node7\" class=\"node\">\n",
       "<title>c_G2</title>\n",
       "<text text-anchor=\"middle\" x=\"203\" y=\"-68.3\" font-family=\"Times,serif\" font-size=\"14.00\">c</text>\n",
       "</g>\n",
       "<!-- OutOfPlaceAdderBuildingBlock&#45;&gt;c_G2 -->\n",
       "<g id=\"edge6\" class=\"edge\">\n",
       "<title>OutOfPlaceAdderBuildingBlock:e-&gt;c_G2:w</title>\n",
       "<path fill=\"none\" stroke=\"black\" d=\"M139,-88C156.22,-88 157.97,-73.23 173.98,-72.07\"/>\n",
       "<ellipse fill=\"black\" stroke=\"black\" cx=\"175\" cy=\"-72.04\" rx=\"1\" ry=\"1\"/>\n",
       "<text text-anchor=\"middle\" x=\"157.5\" y=\"-83\" font-family=\"Times,serif\" font-size=\"10.00\">1</text>\n",
       "</g>\n",
       "<!-- co_G9 -->\n",
       "<g id=\"node8\" class=\"node\">\n",
       "<title>co_G9</title>\n",
       "<text text-anchor=\"middle\" x=\"203\" y=\"-14.3\" font-family=\"Times,serif\" font-size=\"14.00\">co</text>\n",
       "</g>\n",
       "<!-- OutOfPlaceAdderBuildingBlock&#45;&gt;co_G9 -->\n",
       "<g id=\"edge7\" class=\"edge\">\n",
       "<title>OutOfPlaceAdderBuildingBlock:e-&gt;co_G9:w</title>\n",
       "<path fill=\"none\" stroke=\"black\" d=\"M139,-67C165.54,-67 149.64,-20.64 173.86,-18.11\"/>\n",
       "<ellipse fill=\"black\" stroke=\"black\" cx=\"175\" cy=\"-18.05\" rx=\"1\" ry=\"1\"/>\n",
       "<text text-anchor=\"middle\" x=\"157.5\" y=\"-47\" font-family=\"Times,serif\" font-size=\"10.00\">1</text>\n",
       "</g>\n",
       "</g>\n",
       "</svg>"
      ],
      "text/plain": [
       "<IPython.core.display.SVG object>"
      ]
     },
     "metadata": {},
     "output_type": "display_data"
    },
    {
     "data": {
      "text/plain": [
       "(-1.35, 6.35, -3.1550000000000002, 0.255)"
      ]
     },
     "execution_count": 2,
     "metadata": {},
     "output_type": "execute_result"
    },
    {
     "data": {
      "image/png": "[encoded data removed]",
      "text/plain": [
       "<Figure size 500x500 with 1 Axes>"
      ]
     },
     "metadata": {},
     "output_type": "display_data"
    }
   ],
   "source": [
    "show_bloq(OutOfPlaceAdderBuildingBlock())\n",
    "msd = get_musical_score_data(OutOfPlaceAdderBuildingBlock().decompose_bloq())\n",
    "fig, ax = draw_musical_score(msd)\n",
    "ax.axis('equal')"
   ]
  },
  {
   "cell_type": "code",
   "execution_count": 3,
   "id": "00d3ede1-a42f-4d43-aa8f-3a4355865d99",
   "metadata": {},
   "outputs": [
    {
     "data": {
      "image/svg+xml": [
       "<svg xmlns=\"http://www.w3.org/2000/svg\" xmlns:xlink=\"http://www.w3.org/1999/xlink\" width=\"243pt\" height=\"206pt\" viewBox=\"0.00 0.00 243.00 206.00\">\n",
       "<g id=\"graph0\" class=\"graph\" transform=\"scale(1 1) rotate(0) translate(4 202)\">\n",
       "<title>my_graph</title>\n",
       "<polygon fill=\"white\" stroke=\"transparent\" points=\"-4,4 -4,-202 239,-202 239,4 -4,4\"/>\n",
       "<!-- a_G10 -->\n",
       "<g id=\"node1\" class=\"node\">\n",
       "<title>a_G10</title>\n",
       "<text text-anchor=\"middle\" x=\"27\" y=\"-176.3\" font-family=\"Times,serif\" font-size=\"14.00\">a</text>\n",
       "</g>\n",
       "<!-- OutOfPlaceAdderBuildingBlock -->\n",
       "<g id=\"node5\" class=\"node\">\n",
       "<title>OutOfPlaceAdderBuildingBlock</title>\n",
       "<polygon fill=\"none\" stroke=\"black\" points=\"91.5,-141 91.5,-158 144.5,-158 144.5,-141 91.5,-141\"/>\n",
       "<text text-anchor=\"start\" x=\"94.5\" y=\"-147\" font-family=\"Times,serif\" font-size=\"10.00\">(a + b + c)†</text>\n",
       "<polygon fill=\"none\" stroke=\"black\" points=\"91.5,-120 91.5,-141 144.5,-141 144.5,-120 91.5,-120\"/>\n",
       "<text text-anchor=\"start\" x=\"114.5\" y=\"-126.8\" font-family=\"Times,serif\" font-size=\"14.00\">a</text>\n",
       "<polygon fill=\"none\" stroke=\"black\" points=\"91.5,-99 91.5,-120 144.5,-120 144.5,-99 91.5,-99\"/>\n",
       "<text text-anchor=\"start\" x=\"114.5\" y=\"-105.8\" font-family=\"Times,serif\" font-size=\"14.00\">b</text>\n",
       "<polygon fill=\"none\" stroke=\"black\" points=\"91.5,-78 91.5,-99 144.5,-99 144.5,-78 91.5,-78\"/>\n",
       "<text text-anchor=\"start\" x=\"114.5\" y=\"-84.8\" font-family=\"Times,serif\" font-size=\"14.00\">c</text>\n",
       "<polygon fill=\"none\" stroke=\"black\" points=\"91.5,-57 91.5,-78 124.5,-78 124.5,-57 91.5,-57\"/>\n",
       "<text text-anchor=\"start\" x=\"101.5\" y=\"-63.8\" font-family=\"Times,serif\" font-size=\"14.00\">co</text>\n",
       "<polygon fill=\"none\" stroke=\"black\" points=\"124.5,-57 124.5,-78 144.5,-78 144.5,-57 124.5,-57\"/>\n",
       "</g>\n",
       "<!-- a_G10&#45;&gt;OutOfPlaceAdderBuildingBlock -->\n",
       "<g id=\"edge1\" class=\"edge\">\n",
       "<title>a_G10:e-&gt;OutOfPlaceAdderBuildingBlock:w</title>\n",
       "<path fill=\"none\" stroke=\"black\" d=\"M54,-180C80.54,-180 64.64,-133.64 88.86,-131.11\"/>\n",
       "<ellipse fill=\"black\" stroke=\"black\" cx=\"90\" cy=\"-131.05\" rx=\"1\" ry=\"1\"/>\n",
       "<text text-anchor=\"middle\" x=\"72.5\" y=\"-159\" font-family=\"Times,serif\" font-size=\"10.00\">1</text>\n",
       "</g>\n",
       "<!-- b_G8 -->\n",
       "<g id=\"node2\" class=\"node\">\n",
       "<title>b_G8</title>\n",
       "<text text-anchor=\"middle\" x=\"27\" y=\"-122.3\" font-family=\"Times,serif\" font-size=\"14.00\">b</text>\n",
       "</g>\n",
       "<!-- b_G8&#45;&gt;OutOfPlaceAdderBuildingBlock -->\n",
       "<g id=\"edge2\" class=\"edge\">\n",
       "<title>b_G8:e-&gt;OutOfPlaceAdderBuildingBlock:w</title>\n",
       "<path fill=\"none\" stroke=\"black\" d=\"M54,-126C71.22,-126 72.97,-111.23 88.98,-110.07\"/>\n",
       "<ellipse fill=\"black\" stroke=\"black\" cx=\"90\" cy=\"-110.04\" rx=\"1\" ry=\"1\"/>\n",
       "<text text-anchor=\"middle\" x=\"72.5\" y=\"-121\" font-family=\"Times,serif\" font-size=\"10.00\">1</text>\n",
       "</g>\n",
       "<!-- c_G0 -->\n",
       "<g id=\"node3\" class=\"node\">\n",
       "<title>c_G0</title>\n",
       "<text text-anchor=\"middle\" x=\"27\" y=\"-68.3\" font-family=\"Times,serif\" font-size=\"14.00\">c</text>\n",
       "</g>\n",
       "<!-- c_G0&#45;&gt;OutOfPlaceAdderBuildingBlock -->\n",
       "<g id=\"edge3\" class=\"edge\">\n",
       "<title>c_G0:e-&gt;OutOfPlaceAdderBuildingBlock:w</title>\n",
       "<path fill=\"none\" stroke=\"black\" d=\"M54,-72C71.22,-72 72.97,-86.77 88.98,-87.93\"/>\n",
       "<ellipse fill=\"black\" stroke=\"black\" cx=\"90\" cy=\"-87.96\" rx=\"1\" ry=\"1\"/>\n",
       "<text text-anchor=\"middle\" x=\"72.5\" y=\"-83\" font-family=\"Times,serif\" font-size=\"10.00\">1</text>\n",
       "</g>\n",
       "<!-- co_G7 -->\n",
       "<g id=\"node4\" class=\"node\">\n",
       "<title>co_G7</title>\n",
       "<text text-anchor=\"middle\" x=\"27\" y=\"-14.3\" font-family=\"Times,serif\" font-size=\"14.00\">co</text>\n",
       "</g>\n",
       "<!-- co_G7&#45;&gt;OutOfPlaceAdderBuildingBlock -->\n",
       "<g id=\"edge4\" class=\"edge\">\n",
       "<title>co_G7:e-&gt;OutOfPlaceAdderBuildingBlock:w</title>\n",
       "<path fill=\"none\" stroke=\"black\" d=\"M54,-18C80.54,-18 64.64,-64.36 88.86,-66.89\"/>\n",
       "<ellipse fill=\"black\" stroke=\"black\" cx=\"90\" cy=\"-66.95\" rx=\"1\" ry=\"1\"/>\n",
       "<text text-anchor=\"middle\" x=\"72.5\" y=\"-47\" font-family=\"Times,serif\" font-size=\"10.00\">1</text>\n",
       "</g>\n",
       "<!-- a_G1 -->\n",
       "<g id=\"node6\" class=\"node\">\n",
       "<title>a_G1</title>\n",
       "<text text-anchor=\"middle\" x=\"208\" y=\"-160.3\" font-family=\"Times,serif\" font-size=\"14.00\">a</text>\n",
       "</g>\n",
       "<!-- OutOfPlaceAdderBuildingBlock&#45;&gt;a_G1 -->\n",
       "<g id=\"edge5\" class=\"edge\">\n",
       "<title>OutOfPlaceAdderBuildingBlock:e-&gt;a_G1:w</title>\n",
       "<path fill=\"none\" stroke=\"black\" d=\"M144,-131C165.17,-131 159.47,-161.47 178.55,-163.85\"/>\n",
       "<ellipse fill=\"black\" stroke=\"black\" cx=\"180\" cy=\"-163.94\" rx=\"1\" ry=\"1\"/>\n",
       "<text text-anchor=\"middle\" x=\"162.5\" y=\"-151\" font-family=\"Times,serif\" font-size=\"10.00\">1</text>\n",
       "</g>\n",
       "<!-- b_G4 -->\n",
       "<g id=\"node7\" class=\"node\">\n",
       "<title>b_G4</title>\n",
       "<text text-anchor=\"middle\" x=\"208\" y=\"-106.3\" font-family=\"Times,serif\" font-size=\"14.00\">b</text>\n",
       "</g>\n",
       "<!-- OutOfPlaceAdderBuildingBlock&#45;&gt;b_G4 -->\n",
       "<g id=\"edge6\" class=\"edge\">\n",
       "<title>OutOfPlaceAdderBuildingBlock:e-&gt;b_G4:w</title>\n",
       "<path fill=\"none\" stroke=\"black\" d=\"M144,-110C159.67,-110 164.14,-110 178.77,-110\"/>\n",
       "<ellipse fill=\"black\" stroke=\"black\" cx=\"180\" cy=\"-110\" rx=\"1\" ry=\"1\"/>\n",
       "<text text-anchor=\"middle\" x=\"162.5\" y=\"-113\" font-family=\"Times,serif\" font-size=\"10.00\">1</text>\n",
       "</g>\n",
       "<!-- c_G9 -->\n",
       "<g id=\"node8\" class=\"node\">\n",
       "<title>c_G9</title>\n",
       "<text text-anchor=\"middle\" x=\"208\" y=\"-52.3\" font-family=\"Times,serif\" font-size=\"14.00\">c</text>\n",
       "</g>\n",
       "<!-- OutOfPlaceAdderBuildingBlock&#45;&gt;c_G9 -->\n",
       "<g id=\"edge7\" class=\"edge\">\n",
       "<title>OutOfPlaceAdderBuildingBlock:e-&gt;c_G9:w</title>\n",
       "<path fill=\"none\" stroke=\"black\" d=\"M144,-88C164.89,-88 159.72,-58.45 178.58,-56.14\"/>\n",
       "<ellipse fill=\"black\" stroke=\"black\" cx=\"180\" cy=\"-56.06\" rx=\"1\" ry=\"1\"/>\n",
       "<text text-anchor=\"middle\" x=\"162.5\" y=\"-75\" font-family=\"Times,serif\" font-size=\"10.00\">1</text>\n",
       "</g>\n",
       "</g>\n",
       "</svg>"
      ],
      "text/plain": [
       "<IPython.core.display.SVG object>"
      ]
     },
     "metadata": {},
     "output_type": "display_data"
    },
    {
     "data": {
      "text/plain": [
       "(-1.35, 6.35, -3.1550000000000002, 0.255)"
      ]
     },
     "execution_count": 3,
     "metadata": {},
     "output_type": "execute_result"
    },
    {
     "data": {
      "image/png": "[encoded data removed]",
      "text/plain": [
       "<Figure size 500x500 with 1 Axes>"
      ]
     },
     "metadata": {},
     "output_type": "display_data"
    }
   ],
   "source": [
    "bloq_inv = OutOfPlaceAdderBuildingBlock(adjoint=True)\n",
    "show_bloq(bloq_inv)\n",
    "msd = get_musical_score_data(bloq_inv.decompose_bloq())\n",
    "fig, ax = draw_musical_score(msd)\n",
    "ax.axis('equal')"
   ]
  },
  {
   "cell_type": "markdown",
   "metadata": {},
   "source": []
  },
  {
   "cell_type": "markdown",
   "metadata": {},
   "source": [
    "# space and time complexity"
   ]
  },
  {
   "cell_type": "markdown",
   "metadata": {},
   "source": []
  }
 ],
 "metadata": {
  "kernelspec": {
   "display_name": "Python 3 (ipykernel)",
   "language": "python",
   "name": "python3"
  },
  "language_info": {
   "codemirror_mode": {
    "name": "ipython",
    "version": 3
   },
   "file_extension": ".py",
   "mimetype": "text/x-python",
   "name": "python",
   "nbconvert_exporter": "python",
   "pygments_lexer": "ipython3",
   "version": "3.10.12"
  }
 },
 "nbformat": 4,
 "nbformat_minor": 5
}
